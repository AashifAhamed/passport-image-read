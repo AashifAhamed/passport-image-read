{
  "nbformat": 4,
  "nbformat_minor": 0,
  "metadata": {
    "colab": {
      "name": "passport_img_read.ipynb",
      "provenance": [],
      "collapsed_sections": []
    },
    "kernelspec": {
      "name": "python3",
      "display_name": "Python 3"
    },
    "language_info": {
      "name": "python"
    }
  },
  "cells": [
    {
      "cell_type": "code",
      "metadata": {
        "id": "M5-JIdbG8HRD",
        "colab": {
          "base_uri": "https://localhost:8080/"
        },
        "outputId": "1d376c0e-e174-439a-d2bb-f7723bce70df"
      },
      "source": [
        "import sys\n",
        "import cv2\n",
        "import numpy as np\n",
        "import pytesseract\n",
        "from datetime import datetime\n",
        "\n",
        "startTime = datetime.now()\n",
        "\n",
        "input_image_path = sys.argv[1]\n",
        "\n",
        "img = cv2.imread('/content/passport.png')\n",
        "gray = cv2.cvtColor(img, cv2.COLOR_BGR2GRAY)\n",
        "invGamma = 1.0 / 0.3\n",
        "table = np.array([((i / 255.0) ** invGamma) * 255 for i in np.arange(0, 256)]).astype(\n",
        "    \"uint8\"\n",
        ")\n",
        "\n",
        "# apply gamma correction using the lookup table\n",
        "gray = cv2.LUT(gray, table)\n",
        "\n",
        "ret, thresh1 = cv2.threshold(gray, 60, 255, cv2.THRESH_BINARY)\n",
        "\n",
        "contours, hierarchy = cv2.findContours(thresh1, cv2.RETR_TREE, cv2.CHAIN_APPROX_SIMPLE)[\n",
        "    -2:\n",
        "]\n",
        "\n",
        "\n",
        "def biggestRectangle(contours):\n",
        "    biggest = None\n",
        "    max_area = 0\n",
        "    indexReturn = -1\n",
        "    for index in range(len(contours)):\n",
        "        i = contours[index]\n",
        "        area = cv2.contourArea(i)\n",
        "        if area > 100:\n",
        "            peri = cv2.arcLength(i, True)\n",
        "            approx = cv2.approxPolyDP(i, 0.1 * peri, True)\n",
        "            if area > max_area:  # and len(approx)==4:\n",
        "                biggest = approx\n",
        "                max_area = area\n",
        "                indexReturn = index\n",
        "    return indexReturn\n",
        "\n",
        "\n",
        "indexReturn = biggestRectangle(contours)\n",
        "hull = cv2.convexHull(contours[indexReturn])\n",
        "\n",
        "# create a crop mask\n",
        "mask = np.zeros_like(img)  # Create mask where white is what we want, black otherwise\n",
        "cv2.drawContours(mask, contours, indexReturn, 255, -1)  # Draw filled contour in mask\n",
        "out = np.zeros_like(img)  # Extract out the object and place into output image\n",
        "out[mask == 255] = img[mask == 255]\n",
        "\n",
        "# crop the image\n",
        "(y, x, _) = np.where(mask == 255)\n",
        "(topy, topx) = (np.min(y), np.min(x))\n",
        "(bottomy, bottomx) = (np.max(y), np.max(x))\n",
        "out = img[topy : bottomy + 1, topx : bottomx + 1, :]\n",
        "\n",
        "\n",
        "# predict tesseract\n",
        "lang = \"eng+nld\"\n",
        "config = \"--psm 11 --oem 3\"\n",
        "out_rgb = cv2.cvtColor(out, cv2.COLOR_BGR2RGB)\n",
        "\n",
        "# uncomment to see raw prediction\n",
        "# print(pytesseract.image_to_string(out_rgb, lang=lang, config=config))\n",
        "\n",
        "\n",
        "img_data = pytesseract.image_to_data(\n",
        "    out_rgb,\n",
        "    lang=lang,\n",
        "    config=config,\n",
        "    output_type=pytesseract.Output.DATAFRAME,\n",
        ")\n",
        "img_conf_text = img_data[[\"conf\", \"text\"]]\n",
        "img_valid = img_conf_text[img_conf_text[\"text\"].notnull()]\n",
        "img_words = img_valid[img_valid[\"text\"].str.len() > 1]\n",
        "\n",
        "# to see confidence of one word\n",
        "# word = \"Gulfaraz\"\n",
        "# print(img_valid[img_valid[\"text\"] == word])\n",
        "\n",
        "all_predictions = img_words[\"text\"].to_list()\n",
        "print(all_predictions)\n",
        "\n",
        "confidence_level = 90\n",
        "\n",
        "img_conf = img_words[img_words[\"conf\"] > confidence_level]\n",
        "predictions = img_conf[\"text\"].to_list()\n",
        "\n",
        "# uncomment to see confident predictions\n",
        "# print(predictions)\n",
        "\n",
        "print(\"Execution Time: {}\".format(datetime.now() - startTime))"
      ],
      "execution_count": 38,
      "outputs": [
        {
          "output_type": "stream",
          "text": [
            "['PASSPORT', 'PASSEPORT', 'perp', 'Cea', 'ng', 'ate)', 'DOCUMENT', 'No.', 'PAPUA.', 'ade', 'eter', 'PNG', 'Eggelil', 'NEW', 'GUINEA', 'am', 'en', 'RATAHU', 'ove', 'ee', 'KIKI', 'attain', 'PAPUA', 'NEW', 'GUINEAN', 'Data', 'bith', 'Ot', 'dessice', 'pe', 'oe]', '09', 'APR', '1978', 'sexe', 'lc', 'hy', 'dene', 'MT', 'HAGEN', 'PNG', 'Data', 'se', 'Oe', 'dee', 'Sige', 'ter', 'Spot', 're', '08', 'AUG', '2019', 'Data', 'ey', 'ae', 'een', 'og', 'AUG', '2024', '‘ty', 'at', 'PORT', 'HORESBY', 'P<PNGRAIAHU<<KIKI<<<6<<<6<', '6666666', '6666666666', 'Z188b48<', '<4PNG12110bM421SBLEK<', '<<<<<cccccc<<c<<<08']\n",
            "Execution Time: 0:00:01.311696\n"
          ],
          "name": "stdout"
        }
      ]
    }
  ]
}